{
  "nbformat": 4,
  "nbformat_minor": 0,
  "metadata": {
    "colab": {
      "provenance": [],
      "authorship_tag": "ABX9TyOuhpBxqvnh9n/t5BvdnDfD",
      "include_colab_link": true
    },
    "kernelspec": {
      "name": "python3",
      "display_name": "Python 3"
    },
    "language_info": {
      "name": "python"
    }
  },
  "cells": [
    {
      "cell_type": "markdown",
      "metadata": {
        "id": "view-in-github",
        "colab_type": "text"
      },
      "source": [
        "<a href=\"https://colab.research.google.com/github/hbwalker45/freeCodeCamp_data_analysis_with_Python/blob/main/freeCodeCamp_analysis_with_python_notes.ipynb\" target=\"_parent\"><img src=\"https://colab.research.google.com/assets/colab-badge.svg\" alt=\"Open In Colab\"/></a>"
      ]
    },
    {
      "cell_type": "code",
      "execution_count": 84,
      "metadata": {
        "id": "yukEBtCq_dKU",
        "colab": {
          "base_uri": "https://localhost:8080/"
        },
        "outputId": "7953064e-996c-4eda-9a5c-fb9b4dbc59e6"
      },
      "outputs": [
        {
          "output_type": "execute_result",
          "data": {
            "text/plain": [
              "array([-11, -12, -13, -14, -15])"
            ]
          },
          "metadata": {},
          "execution_count": 84
        }
      ],
      "source": [
        "# this file will be initial notes/overall syntax & useful commands\n",
        "# each exercise files will be separate\n",
        "\n",
        "import numpy as np\n",
        "import pandas as pd\n",
        "import matplotlib.pyplot as plt\n",
        "\n",
        "%matplotlib inline\n",
        "\n",
        "# reading a file from source\n",
        "train = pd.read_csv('/content/sample_data/california_housing_train.csv')\n",
        "\n",
        "# shape allows us to learn the structure of our dataframe, (rows, collums) (17000, 9)\n",
        "train.shape\n",
        "\n",
        "# mean will return us the average of field specified in []\n",
        "train['total_rooms'].mean()\n",
        "\n",
        "# .plot allows to plot points on a type of chart/graph\n",
        "# kde = kernel density estimation\n",
        "# figsize is a tuple of the width and height of the figure in inches\n",
        "\n",
        "#train['total_rooms'].plot(kind='kde', figsize=(12,6))\n",
        "\n",
        "# value counts will return the number of records that have said value in field specified\n",
        "# for ex. the code below will tell us how many records have 1000 total rooms, 1001 total rooms, etc. \n",
        "\n",
        "#train['total_rooms'].value_counts()\n",
        "\n",
        "\n",
        "# numPy notes\n",
        "\n",
        "# setting array\n",
        "testArr = np.array([1,2,3,4,5,6,7])\n",
        "# pulling specific indexes out of array \n",
        "testArr[[0,2,-1]]\n",
        "\n",
        "#finding data type of var... default is 64 bit for platform\n",
        "testArr.dtype\n",
        "\n",
        "# we can change data type/bit size/int size \n",
        "\n",
        "intTestArr = np.array([1,2,3,4,5,6,7], dtype=np.int8)\n",
        "\n",
        "#numPy is usually only used for storing integrers/numeric values\n",
        "\n",
        "\n",
        "# arrays matrix\n",
        "\n",
        "a = np.array([\n",
        "    [1,2,3],\n",
        "    [4,5,6]\n",
        "  ])\n",
        "\n",
        "# defining array matrix\n",
        "a.shape\n",
        "\n",
        "# finding dimensions\n",
        "a.ndim\n",
        "\n",
        "# finding size of matrix (total num of elements in matrix)\n",
        "a.size\n",
        "\n",
        "# for defining array syntax \n",
        "# A[d1, d2, d3, d4]\n",
        "# A[row, column]\n",
        "\n",
        "b = np.array([\n",
        "     [1,2,3],\n",
        "     [4,5,6],\n",
        "     [7,8,9]                 \n",
        "])\n",
        "\n",
        "# finding row across\n",
        "b[0]\n",
        "\n",
        "#finding specific point\n",
        "b[0,0]\n",
        "\n",
        "# indexing slicing\n",
        "b[0:2]\n",
        "b[:, :2]\n",
        "b[:2, :2]\n",
        "b[:-1, :2]\n",
        "\n",
        "\n",
        "# modification of array\n",
        "\n",
        "c = np.array([\n",
        "     [1,2,3],\n",
        "     [4,5,6],\n",
        "     [7,8,9]                 \n",
        "])\n",
        "\n",
        "#setting second row = to [10,10,9] \n",
        "c[1] = np.array([10,10,9])\n",
        "\n",
        "# numPy will set row = to num defined depending on dimensions of array\n",
        "c[1] = 99\n",
        "\n",
        "# finding array statistics\n",
        "\n",
        "d = np.array([[1,2,3,4,5,6,7,8,9,10],\n",
        "             [2,4,5,7,4,3,5,6,3,10],\n",
        "             [1,2,3,4,5,6,7,8,9,10] \n",
        "             ])\n",
        "d.sum()\n",
        "d.mean()\n",
        "# standard deviation\n",
        "d.std()\n",
        "# to find sum of columns\n",
        "d.sum(axis = 1)\n",
        "d.mean(axis = 1)\n",
        "d.std(axis = 1)\n",
        "\n",
        "\n",
        "# broadcasting & vectorized operations \n",
        "\n",
        "# defining array\n",
        "e = np.arange(4)\n",
        "\n",
        "# adding 10 to each value in original array so 0 +10, 1+10, etc...\n",
        "e + 10\n",
        "e * 10\n",
        "e ** 10\n",
        "e / 10\n",
        "\n",
        "# numPy is an immutable first library...\n",
        "# meaning it will not modify the array (in this case e)\n",
        "# but it will return a new array with new values\n",
        "\n",
        "# there is a way to modify the array by using operation = \n",
        "\n",
        "e +=10\n",
        "e -= 100\n",
        "# etc...\n",
        "\n",
        "ab = np.array([1,2,3,4,5])\n",
        "ba = np.array([12,14,16,18,20])\n",
        "\n",
        "# using numPy, we are able to using operations between two arrays\n",
        "\n",
        "ab + ba\n",
        "ab - ba\n",
        "# etc...\n",
        "# for this to work however, you need arrays to have the exact same shape \n",
        "\n"
      ]
    },
    {
      "cell_type": "code",
      "source": [],
      "metadata": {
        "id": "7Y_e-N5BdzHe"
      },
      "execution_count": null,
      "outputs": []
    },
    {
      "cell_type": "markdown",
      "source": [],
      "metadata": {
        "id": "PGHgvK6ldzOW"
      }
    },
    {
      "cell_type": "code",
      "source": [],
      "metadata": {
        "id": "qzRGKnP8dwnV"
      },
      "execution_count": null,
      "outputs": []
    }
  ]
}