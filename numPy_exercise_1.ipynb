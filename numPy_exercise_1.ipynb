{
  "nbformat": 4,
  "nbformat_minor": 0,
  "metadata": {
    "colab": {
      "provenance": [],
      "authorship_tag": "ABX9TyPUNbrzLuiFrkF4pbSps1eM",
      "include_colab_link": true
    },
    "kernelspec": {
      "name": "python3",
      "display_name": "Python 3"
    },
    "language_info": {
      "name": "python"
    }
  },
  "cells": [
    {
      "cell_type": "markdown",
      "metadata": {
        "id": "view-in-github",
        "colab_type": "text"
      },
      "source": [
        "<a href=\"https://colab.research.google.com/github/hbwalker45/freeCodeCamp_data_analysis_with_Python/blob/main/numPy_exercise_1.ipynb\" target=\"_parent\"><img src=\"https://colab.research.google.com/assets/colab-badge.svg\" alt=\"Open In Colab\"/></a>"
      ]
    },
    {
      "cell_type": "code",
      "execution_count": 25,
      "metadata": {
        "colab": {
          "base_uri": "https://localhost:8080/"
        },
        "id": "f1dWL1Yed1Ih",
        "outputId": "9e0da474-7413-4f0d-f3bd-e099a58dabcb"
      },
      "outputs": [
        {
          "output_type": "execute_result",
          "data": {
            "text/plain": [
              "array([1, 3, 7])"
            ]
          },
          "metadata": {},
          "execution_count": 25
        }
      ],
      "source": [
        "import sys\n",
        "import numpy as np\n",
        "\n",
        "\n",
        "#  Create a numpy array of size 10, filled with zeros.\n",
        "\n",
        "np.array([0] * 10)\n",
        "# or \n",
        "np.zeros(10)\n",
        "\n"
      ]
    }
  ]
}